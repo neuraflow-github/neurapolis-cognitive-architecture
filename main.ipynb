{
 "cells": [
  {
   "cell_type": "code",
   "execution_count": 1,
   "metadata": {},
   "outputs": [
    {
     "name": "stderr",
     "output_type": "stream",
     "text": [
      "/Users/pascal/langgraph-example-pyproject/.venv/lib/python3.12/site-packages/pinecone/data/index.py:1: TqdmWarning: IProgress not found. Please update jupyter and ipywidgets. See https://ipywidgets.readthedocs.io/en/stable/user_install.html\n",
      "  from tqdm.autonotebook import tqdm\n",
      "Task was destroyed but it is pending!\n",
      "task: <Task pending name='pool-1-worker-0' coro=<AsyncConnectionPool.worker() done, defined at /Users/pascal/langgraph-example-pyproject/.venv/lib/python3.12/site-packages/psycopg_pool/pool_async.py:613> wait_for=<Future cancelled>>\n",
      "Task was destroyed but it is pending!\n",
      "task: <Task pending name='pool-1-worker-1' coro=<AsyncConnectionPool.worker() done, defined at /Users/pascal/langgraph-example-pyproject/.venv/lib/python3.12/site-packages/psycopg_pool/pool_async.py:613> wait_for=<Future cancelled>>\n",
      "Task was destroyed but it is pending!\n",
      "task: <Task pending name='pool-1-worker-2' coro=<AsyncConnectionPool.worker() done, defined at /Users/pascal/langgraph-example-pyproject/.venv/lib/python3.12/site-packages/psycopg_pool/pool_async.py:613> wait_for=<Future cancelled>>\n",
      "/Users/pascal/langgraph-example-pyproject/.venv/lib/python3.12/site-packages/psycopg_pool/pool_async.py:138: RuntimeWarning: opening the async pool AsyncConnectionPool in the constructor is deprecated and will not be supported anymore in a future release. Please use `await pool.open()`, or use the pool as context manager using: `async with AsyncConnectionPool(...) as pool: `...\n",
      "  warnings.warn(\n",
      "/Users/pascal/langgraph-example-pyproject/.venv/lib/python3.12/site-packages/langchain_core/_api/beta_decorator.py:87: LangChainBetaWarning: This API is in beta and may change in the future.\n",
      "  warn_beta(\n"
     ]
    },
    {
     "name": "stdout",
     "output_type": "stream",
     "text": [
      "Tool Call: {'name': 'get_information', 'args': {'full_query': 'Wer ist Marc Langen?'}, 'id': 'call_WmaCjQL6q6GLdGE3kjqzm90p', 'type': 'tool_call'}\n",
      "\u001b[34mtenant siegburg \u001b[0m\n",
      "\u001b[34mdocs[Document(metadata={'source': 'https://serviceportal.siegburg.de/Mitarbeiter/Marc_Langen'}, page_content='VOLLERNAME:\\nMarc Langen\\n\\n TELEFON_GESCHAEFTLICH:\\n+49 2241 102-1250\\n\\n TELEFON_MOBIL:\\nNone\\n\\n EMAIL:\\nMarc.Langen@Siegburg.de\\n\\n FAX:\\nNone\\n\\n ABTEILUNG:\\nStS Digitalisierung\\n\\n TITEL:\\nSachbearbeiter\\n\\n ORGANISATION:\\nKreisstadt Siegburg\\n\\n RAUM:\\nNone\\n\\n'), Document(metadata={'parent_text': 'Frühjahrsputz zwischen Sieg und Agger\\n2.400 Engagierte sammeln 35 Kubikmeter Müll\\n18 März 2024 \\n© Kreisstadt Siegburg\\nStadt-Putz-Tag\\nSiegburg. Auch wenn das Wetter am Samstagvormittag nicht unbedingt zum Aufenthalt im Freien einlud, griffen knapp 2.400 Kinder und Erwachsene zu Müllbeutel, Greifzange und Handschuh, um in Siegburg aufzuräumen. Rund 35 Kubikmeter Abfall kamen in wenigen Stunden zusammen. Darunter Autoreifen, Teile eines Gartenzauns, ein Kinderwagen, eine Biomülltonne, ... - \"man könnte einen ganzen Haushalt damit einrichten\", fasst Andrea Meister, die die Aktion aus dem städtischen Amt für Umwelt und Wirtschaft koordiniert, zusammen. \"Das meiste davon könnte kostenlos oder für wenig Geld entsorgt werden\", ärgert sich Bürgermeister Stefan Rosemann, der sich gleichzeitig über das Engagement freut: \"Man muss nicht lange nachrechnen, wie viel Zeit der Bauhof bräuchte, um das zu sammeln, was heute 2.400 Menschen zusammengetragen haben.\" \\nFoto, v.l.: Bürgermeister Stefan Rosemann zwischen dem Bauhof-Team aus Artur Förster, Gennadij Gossen, Dirk Sieberg, Alex Steimel und Wassili Peters, rechts die Umweltamt-Mitarbeiterinnen Tanja Marks und Andrea Meister.', 'source': 'https://siegburg.de/stadtleben-aktuelles/aktuelles/nachrichten/2024/maerz/fruehjahrsputz-zwischen-sieg-und-agger/'}, page_content='Rosemann zwischen dem Bauhof-Team aus Artur Förster, Gennadij Gossen, Dirk Sieberg, Alex Steimel und Wassili Peters, rechts die Umweltamt-Mitarbeiterinnen Tanja Marks und Andrea Meister.'), Document(metadata={'parent_text': 'Die städtische Engelbert-Humperdinck-Musikschule wurde 1942 gegründet und war in den Jahren 1948 bis 1972 als Konservatorium Ausbildungsstätte für Musiklehrer. Sie gehört mit weiteren 170 Musikschulen in Nordrhein-Westfalen dem Bundesverband deutscher Musikschulen an, der ca. 1.000 Mitgliedsschulen umfasst. Zur Zeit werden etwa 1.000 Teilnehmerinnen und Teilnehmer unterrichtet.\\nDie Angebote der Musikschule in Siegburg richten sich an Kinder ab 6 Monaten, Jugendliche, Erwachsene und Senioren. Daneben leistet die Musikschule mit ihrem Veranstaltungsprogramm einen wichtigen Beitrag zum Kulturleben der Kreisstadt. Mit verschiedenen kostenfreien Musikangeboten in Seniorenheimen erfüllt die Musikschule eine wichtige sozialpolitische Aufgabe. Als Kooperationspartner für die verschiedenen Institutionen ist sie in der Region nicht mehr wegzudenken.\\nMusikschultag am 04. Mai 2024 \\nvon 11 - 14 Uhr in der Musikwerkstatt, Zeughausstr. 5! Die angebotenen Instrumente können Sie dem Flyer entnehmen. \\nVeranstaltungen 2024 \\nDie ersten Veranstaltungen 2024 sind nun in unserem Ticketshop verfügbar! \\nPRO SPECT \\nDas digitale Magazin der Stadtbetreibe Siegburg ist jetzt verfügbar! \\nmedici.tv \\nKLASSIK UND JAZZ AUF ABRUF \\nAngebote \\nAlle Angebote der Engelbert-Humperdinck-Musikschule \\nWettbewerbe \\nJährlich veranstaltet die Engelbert-Humperdinck-Musikschule Siegburg zahlreiche Wettbewerbe für Kinder, Jugendliche und Erwachsene. \\nEngelbert-Humperdinck-Freunde e.V. \\nDTKV / Manuskripte-Archiv \\nWer ist der', 'source': 'https://siegburg.de/kultur-freizeit/musikschule/index.html'}, page_content='Manuskripte-Archiv \\nWer ist der'), Document(metadata={'parent_text': 'genau diese Woche Zeit. ... \\nLeser finanzieren Vorleser \\nZufrieden blickt der Freundeskreis der Stadtbibliothek auf den Bücherflohmarkt am Wochenende. Der Erlös - \"eine schöne Summe\", ... \\nMit Caesar lesen lernen \\n\"Lass dich nicht verunsichern, ich glaube fest an dich!\" Kindern zuhören, die beim Vorlesen noch Fehler machen oder langsam sind? Das macht Caesar gar nichts aus. ... \\nWeihnachten nach Maß \\nDass vermeintlicher Müll nicht immer Müll ist, zeigt in der Geschichte \"Weihnachten nach Maß\" von Birdie Black und Rosalind Beardshaw der Verbleib von Stoffresten ... \\nBegeisterung für Technik wecken \\nSelbst die 800 Erstsemester des Studienfachs Informatik an der RWTH Aachen werden nicht ausreichen, das Fachkräfteproblem auf dem IT-Sektor zu lösen. ... \\nKreativ verpackt \\nMöchten Sie in diesem Jahr Weihnachten auf eine umweltfreundlichere Weise feiern? ... \\nHochwertige Tradition in bewegten Zeiten \\nDer Mittelalterliche Markt zur Weihnachtszeit ist eine \"Konstante in bewegter Zeit\", wie es Bürgermeister Stefan Rosemann ausdrückt. ... \\nLamas spucken, das weiß fast jeder \\nDass manch ein Lama gar nicht mit Absicht spuckt und darunter mitunter sehr leiden kann, erzählt die folgende Geschichte über unterschätzte Fähigkeiten: ... \\nHenriette und die Wunderkörner \\nHenriette Huhn lebt mit ihren Freunden in einem gemütlichen Haus auf dem Land. Die eitle Katze will immer die Schönste sein, der faule Hund macht wie immer sein Nickerchen, die Maus Lilli treibt Unsinn, ... \\nSieben', 'source': 'https://stadtbibliothek-siegburg.de/bibliothek-entdecken/ueber-uns/presse/index.html'}, page_content='es Bürgermeister Stefan Rosemann ausdrückt. ... \\nLamas spucken, das weiß fast jeder \\nDass manch ein Lama gar nicht mit Absicht spuckt und darunter mitunter sehr leiden kann, erzählt die folgende Geschichte über unterschätzte Fähigkeiten: ... \\nHenriette und die Wunderkörner \\nHenriette Huhn lebt mit ihren Freunden in einem gemütlichen Haus auf dem Land. Die eitle Katze will immer die Schönste sein, der faule Hund macht wie immer sein Nickerchen, die Maus Lilli treibt Unsinn, ... \\nSieben'), Document(metadata={'parent_text': 'anderen Gefilden Lorbeeren einsammelt. Armin Mueller-Stahls Zeichnungen und Malereien setzten sich mit Goethes Faust auseinander.\\nIn den Mauern wurde zwei Siegburger VIPs geboren: der Kirchenliedkomponist Franz Joseph Mohr (\"Ein Haus voll Glorie schauet\") im Jahre 1834 und ein weitere Tondichter, der für seine Märchenoper \"Hänsel und Gretel\" weltbekannte Engelbert Humperdinck im Jahr 1854.\\nAn den Wänden der Museumsaula sind weitere Heroen verewigt, die in Siegburg das Licht der Welt erblickten. Darunter zwei Männer, die im Ausland zu Ruhm und Ehre kamen. Da wäre zum einen Johann Lair, der die Universitätsdruckerei Cambridge gründete. Zum anderen der Künstler Charles Wimar, der Mitte des 19. Jahrhunderts den Mississippi von St. Louis stromaufwärts bereiste und eindrucksvolle Porträts der amerikanischen Ureinwohner anfertigte. 2017 ersteigerten Liebhaber eine Wildwestszene Wimars in München für300.000 Euro.\\nVerlassen wir den Markt über die Griesgasse und laufen auf die Zeughausstraße zu. Das Gebäude, das der Straße den Namen gibt, spielte im 19. Jahrhundert eine Rolle in der deutschen Geschichte. Hinter den dicken Quadern aus Wolsdorfer Brocken - so heißt der Stein, aus dem das alte Siegburg gebaut ist - lagerten die Preußen Waffen und Munition zur Bewaffnung der Landwehr.\\n1849 versuchten Freischärler um Carl Schurz und Gottfried Kinkel von Bonn aus die Waffenkammer zu stürmen. Auf halbem Wege, an die Sieg waren sie noch nicht gekommen, wurden sie gestoppt und', 'source': 'https://siegburg.de/stadtleben-aktuelles/stadtportraet/stadtgeschichte/index.html'}, page_content='erblickten. Darunter zwei Männer, die im Ausland zu Ruhm und Ehre kamen. Da wäre zum einen Johann Lair, der die Universitätsdruckerei Cambridge gründete. Zum anderen der Künstler Charles Wimar, der Mitte des 19. Jahrhunderts den Mississippi von St.')]\u001b[0m\n",
      "Marc Langen ist ein Sachbearbeiter in der Abteilung für Digitalisierung der Kreisstadt Siegburg. Sie können ihn unter der Telefonnummer +49 2241 102-1250 oder per E-Mail unter Marc.Langen@Siegburg.de erreichen.Gibt es noch etwas, bei dem ich Ihnen helfen kann?"
     ]
    }
   ],
   "source": [
    "from typing import Optional, Any, Dict\n",
    "import uuid\n",
    "import copy\n",
    "from dotenv import load_dotenv\n",
    "\n",
    "load_dotenv()\n",
    "\n",
    "from agent import create_graph\n",
    "import asyncio\n",
    "import nest_asyncio\n",
    "\n",
    "# Apply nest_asyncio to allow running asyncio in Jupyter\n",
    "nest_asyncio.apply()\n",
    "\n",
    "assistant_id = \"E2j4gGtvsJ2v75THGY0L\"\n",
    "\n",
    "# Generate a unique thread ID for the entire conversation\n",
    "thread_id = str(uuid.uuid4())\n",
    "config = {\n",
    "    \"configurable\": {\n",
    "        \"thread_id\": thread_id,\n",
    "        \"model_name\": \"openai\",\n",
    "        \"search_kwargs\": {\n",
    "            \"namespace\": f\"{assistant_id}_DEVELOPMENT\",\n",
    "            \"k\": 5,\n",
    "        },\n",
    "    }\n",
    "}\n",
    "messages = []\n",
    "\n",
    "async def process_user_input(user_input):\n",
    "    messages.append(user_input)\n",
    "    graph = await create_graph()\n",
    "\n",
    "    state = {\"messages\": messages}\n",
    "\n",
    "    async for event in graph.astream_events(state, config, version=\"v1\"):\n",
    "        kind = event[\"event\"]\n",
    "        if kind == \"on_chat_model_stream\":\n",
    "            chunk = event[\"data\"][\"chunk\"]\n",
    "            if isinstance(chunk.content, list):\n",
    "                for item in chunk.content:\n",
    "                    if isinstance(item, dict) and item.get(\"type\") == \"text\":\n",
    "                        print(item[\"text\"], end=\"\", flush=True)\n",
    "            else:\n",
    "                print(chunk.content, end=\"\", flush=True)\n",
    "        elif kind == \"on_tool_start\":\n",
    "            print(\"\\n--\")\n",
    "            print(\n",
    "                f\"Starting tool: {event['name']} with inputs: {event['data'].get('input')}\"\n",
    "            )\n",
    "        elif kind == \"on_tool_end\":\n",
    "            print(f\"Done tool: {event['name']}\")\n",
    "            print(f\"Tool output was: {event['data'].get('output')}\")\n",
    "            print(\"--\\n\")\n",
    "            \n",
    "from langchain_core.messages import HumanMessage\n",
    "\n",
    "async def main():\n",
    "    try:\n",
    "        while True:\n",
    "            user_input = input(\"\\nEnter your question (or 'exit' to quit): \")\n",
    "            if user_input.lower() == \"exit\":\n",
    "                break\n",
    "            await process_user_input(HumanMessage(content=user_input))\n",
    "    except RuntimeError as e:\n",
    "        print(f\"An error occurred: {e}\")\n",
    "        print(\n",
    "            \"Please ensure the AsyncConnectionPool is properly initialized in the agent.py file.\"\n",
    "        )\n",
    "\n",
    "# Use asyncio.get_event_loop().run_until_complete() instead of asyncio.run()\n",
    "if __name__ == \"__main__\":\n",
    "    loop = asyncio.get_event_loop()\n",
    "    loop.run_until_complete(main())\n"
   ]
  }
 ],
 "metadata": {
  "kernelspec": {
   "display_name": ".venv",
   "language": "python",
   "name": "python3"
  },
  "language_info": {
   "codemirror_mode": {
    "name": "ipython",
    "version": 3
   },
   "file_extension": ".py",
   "mimetype": "text/x-python",
   "name": "python",
   "nbconvert_exporter": "python",
   "pygments_lexer": "ipython3",
   "version": "3.12.5"
  }
 },
 "nbformat": 4,
 "nbformat_minor": 2
}
